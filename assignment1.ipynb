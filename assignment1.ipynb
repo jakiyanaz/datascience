{
 "cells": [
  {
   "cell_type": "markdown",
   "id": "e0f4b82e-5657-4b10-9c7e-bf4effc483e3",
   "metadata": {},
   "source": [
    "Q1. What are the characteristics of the tuples? Is tuple immutable"
   ]
  },
  {
   "cell_type": "markdown",
   "id": "84db3d0c-132d-478d-91de-353b18620e7b",
   "metadata": {},
   "source": [
    "Ans: Characteristics of tuples:\n",
    "1. They are indexed.\n",
    "2. They accept duplicate values.\n",
    "3. They are ordered.\n",
    "4. They are immutable.\n",
    "\n",
    "Yes, tuple is immutable."
   ]
  },
  {
   "cell_type": "markdown",
   "id": "b06bf484-b176-4a0b-aeec-d55f076ed234",
   "metadata": {},
   "source": [
    "Q2. What are the two tuple methods in python? Give an example of each method. Give a reason why \n",
    "tuples have only two in-built methods as compared to Lists."
   ]
  },
  {
   "cell_type": "markdown",
   "id": "f2328cf4-7325-4305-a76d-7bda9a24f5d6",
   "metadata": {},
   "source": [
    "Ans: Two tuple methods in python:\n",
    "1. count()"
   ]
  },
  {
   "cell_type": "code",
   "execution_count": 1,
   "id": "610a7db1-b0c9-48e1-a48e-711d46f579ae",
   "metadata": {},
   "outputs": [
    {
     "data": {
      "text/plain": [
       "1"
      ]
     },
     "execution_count": 1,
     "metadata": {},
     "output_type": "execute_result"
    }
   ],
   "source": [
    "t1 = (1,2,3,4,5,45,45+7j,\"jak\",True)\n",
    "t1.count(4)"
   ]
  },
  {
   "cell_type": "markdown",
   "id": "9f751cec-f8ab-4d54-8d49-ea85b6a859f0",
   "metadata": {},
   "source": [
    "2. index()"
   ]
  },
  {
   "cell_type": "code",
   "execution_count": 2,
   "id": "38375389-e921-45fa-bdab-ea4983e204cb",
   "metadata": {},
   "outputs": [
    {
     "data": {
      "text/plain": [
       "6"
      ]
     },
     "execution_count": 2,
     "metadata": {},
     "output_type": "execute_result"
    }
   ],
   "source": [
    "t1.index(45+7j)"
   ]
  },
  {
   "cell_type": "markdown",
   "id": "85342b74-83a1-4fbf-8743-bb25db215e60",
   "metadata": {},
   "source": [
    "Tuples have only two inbuilt methods as compared to lists because tuples are immutable so they can't be modified but lists are mutable hence can be modified."
   ]
  },
  {
   "cell_type": "markdown",
   "id": "7dbed83d-5625-4a5d-8b53-e6a96992a1fd",
   "metadata": {},
   "source": [
    "Q3.  Which collection datatypes in python do not allow duplicate items? Write a code using a set to remove \n",
    "duplicates from the given list.\n",
    "List = [1, 1, 1, 2, 1, 3, 1, 4, 2, 1, 2, 2, 2, 3, 2, 4, 3, 1, 3, 2, 3, 3, 3, 4, 4, 1, 4, 2, 4, 3, 4, 4]"
   ]
  },
  {
   "cell_type": "markdown",
   "id": "f232b15b-3793-419d-89e8-7fdf71150360",
   "metadata": {},
   "source": [
    "Ans: Set does not allow duplicates."
   ]
  },
  {
   "cell_type": "code",
   "execution_count": 3,
   "id": "e1ac7ddf-1100-4f1c-82e5-b01f3687e358",
   "metadata": {},
   "outputs": [
    {
     "data": {
      "text/plain": [
       "{1, 2, 3, 4}"
      ]
     },
     "execution_count": 3,
     "metadata": {},
     "output_type": "execute_result"
    }
   ],
   "source": [
    "List = [1, 1, 1, 2, 1, 3, 1, 4, 2, 1, 2, 2, 2, 3, 2, 4, 3, 1, 3, 2, 3, 3, 3, 4, 4, 1, 4, 2, 4, 3, 4, 4]\n",
    "set(List)"
   ]
  },
  {
   "cell_type": "markdown",
   "id": "5c8c8101-ed2f-4727-95df-8ed595d94b07",
   "metadata": {},
   "source": [
    "Q4. Explain the difference between the union() and update() methods for a set. Give an example of \n",
    "each method."
   ]
  },
  {
   "cell_type": "markdown",
   "id": "1751da49-07de-42c3-b9e6-62ffeb21b1e2",
   "metadata": {},
   "source": [
    "Ans: difference between union() and update() methods for a set:\n",
    "    update() adds all missing elements to the set while union() creates a new set with unique values of both sets."
   ]
  },
  {
   "cell_type": "code",
   "execution_count": 4,
   "id": "5fcbda23-20bc-4e55-b85d-3d1940f9404a",
   "metadata": {},
   "outputs": [
    {
     "data": {
      "text/plain": [
       "{1, 3, 4, 5, 6}"
      ]
     },
     "execution_count": 4,
     "metadata": {},
     "output_type": "execute_result"
    }
   ],
   "source": [
    "set1 = {1,2,3,4}\n",
    "set2 = {1,3,5,6}\n",
    "set1.update({4,5})\n",
    "set2.union({4,5})"
   ]
  },
  {
   "cell_type": "code",
   "execution_count": 5,
   "id": "82569c48-b512-4900-b59d-6a1b55ab54ff",
   "metadata": {},
   "outputs": [],
   "source": [
    "set1.update({4,5})"
   ]
  },
  {
   "cell_type": "code",
   "execution_count": 6,
   "id": "09ef7687-27e6-4db5-9ad1-0ecc90bea50f",
   "metadata": {},
   "outputs": [
    {
     "data": {
      "text/plain": [
       "{1, 2, 3, 4, 5}"
      ]
     },
     "execution_count": 6,
     "metadata": {},
     "output_type": "execute_result"
    }
   ],
   "source": [
    "set1"
   ]
  },
  {
   "cell_type": "code",
   "execution_count": 7,
   "id": "0c6f7677-43eb-4178-811d-a791daea2370",
   "metadata": {},
   "outputs": [
    {
     "data": {
      "text/plain": [
       "{1, 3, 5, 6, 8, 9}"
      ]
     },
     "execution_count": 7,
     "metadata": {},
     "output_type": "execute_result"
    }
   ],
   "source": [
    "set2.union({8,9})"
   ]
  },
  {
   "cell_type": "code",
   "execution_count": 8,
   "id": "f42f454c-c042-4cda-8010-b9a8c0616708",
   "metadata": {},
   "outputs": [
    {
     "data": {
      "text/plain": [
       "{1, 3, 5, 6}"
      ]
     },
     "execution_count": 8,
     "metadata": {},
     "output_type": "execute_result"
    }
   ],
   "source": [
    "set2"
   ]
  },
  {
   "cell_type": "markdown",
   "id": "f6918352-e2f4-454c-b316-473973748d3d",
   "metadata": {},
   "source": [
    "Q5. What is a dictionary? Give an example. Also, state whether a dictionary is ordered or unordered."
   ]
  },
  {
   "cell_type": "markdown",
   "id": "160868da-3165-4820-a8d2-e29ab28a87ee",
   "metadata": {},
   "source": [
    "Ans: A dictionary is a built-in collection in python. It has key value pairs. \n",
    "Example: dict = {'name':'Jakiya', 'course':'Masters in data science'}\n",
    "A dictionary is ordered, unchangeable and does not allow duplicates."
   ]
  },
  {
   "cell_type": "markdown",
   "id": "91b74183-edc2-4e55-9079-f846b3fd7cfd",
   "metadata": {},
   "source": [
    "Q6.Can we create a nested dictionary? If so, please give an example by creating a simple one-level \n",
    "nested dictionary."
   ]
  },
  {
   "cell_type": "markdown",
   "id": "0718c63e-d06f-4573-9661-df1d6239644c",
   "metadata": {},
   "source": [
    "Ans: Yes, we can create a nested dictionary."
   ]
  },
  {
   "cell_type": "code",
   "execution_count": 11,
   "id": "b7339a6f-3af9-4656-addf-cebf8c56dc75",
   "metadata": {},
   "outputs": [
    {
     "data": {
      "text/plain": [
       "{'name': 'Jakiya',\n",
       " 'course': 'Masters in data science',\n",
       " 'further details': {'college': 'S.Sinha', 'Roll': 19}}"
      ]
     },
     "execution_count": 11,
     "metadata": {},
     "output_type": "execute_result"
    }
   ],
   "source": [
    "dict1 = {'name':'Jakiya', 'course':'Masters in data science', 'further details': {'college':'S.Sinha', 'Roll': 19}}\n",
    "dict1"
   ]
  },
  {
   "cell_type": "markdown",
   "id": "859b9343-d1ad-4347-9e0f-3443c4098fa2",
   "metadata": {},
   "source": [
    "Q7. . Using  setdefault()  method, create key named topics in the given dictionary and also add the value of \n",
    "the key as this list ['Python', 'Machine Learning’, 'Deep Learning']"
   ]
  },
  {
   "cell_type": "code",
   "execution_count": 17,
   "id": "4f191c07-bd0f-4cb6-a29a-fabf52047d3e",
   "metadata": {},
   "outputs": [
    {
     "data": {
      "text/plain": [
       "['Python', 'Machine Learning', 'Deep Learning']"
      ]
     },
     "execution_count": 17,
     "metadata": {},
     "output_type": "execute_result"
    }
   ],
   "source": [
    "student = {'course':'MCA', 'name':'Jakiya'}\n",
    "student.setdefault('topics', ['Python', 'Machine Learning', 'Deep Learning'])"
   ]
  },
  {
   "cell_type": "markdown",
   "id": "dd12f3b2-7d00-46cf-8df8-b0eca32ccb75",
   "metadata": {},
   "source": [
    "Q8. What are the three view objects in dictionaries? Use the three in-built methods in python to display \n",
    "these three view objects for the given dictionary."
   ]
  },
  {
   "cell_type": "markdown",
   "id": "0c724615-1b0a-4244-82c5-8b29055e7549",
   "metadata": {},
   "source": [
    "dict1 = {'Sport': 'Cricket' , 'Teams': ['India', 'Australia', 'England', 'South Africa', 'Sri Lanka', 'New Zealand']}"
   ]
  },
  {
   "cell_type": "markdown",
   "id": "bf3feb78-6f6d-4184-82e4-fac9a6bd1a0e",
   "metadata": {},
   "source": [
    "Ans: The three view objects in python dictionaries are keys, values and items. \n",
    "#Inbuilt methods to display view objects:"
   ]
  },
  {
   "cell_type": "code",
   "execution_count": 18,
   "id": "16a962d3-1881-4145-94ee-1c00ebee8541",
   "metadata": {},
   "outputs": [
    {
     "data": {
      "text/plain": [
       "dict_keys(['Sport', 'Teams'])"
      ]
     },
     "execution_count": 18,
     "metadata": {},
     "output_type": "execute_result"
    }
   ],
   "source": [
    "dict1 = {'Sport': 'Cricket' , 'Teams': ['India', 'Australia', 'England', 'South Africa', 'Sri Lanka', 'New Zealand']}\n",
    "dict1.keys()"
   ]
  },
  {
   "cell_type": "code",
   "execution_count": 19,
   "id": "a81c9b71-3c53-4100-a672-1bcdde646d94",
   "metadata": {},
   "outputs": [
    {
     "data": {
      "text/plain": [
       "dict_values(['Cricket', ['India', 'Australia', 'England', 'South Africa', 'Sri Lanka', 'New Zealand']])"
      ]
     },
     "execution_count": 19,
     "metadata": {},
     "output_type": "execute_result"
    }
   ],
   "source": [
    "dict1.values()"
   ]
  },
  {
   "cell_type": "code",
   "execution_count": 20,
   "id": "d7fca352-50d9-4be7-bf7d-f45d12859bf1",
   "metadata": {},
   "outputs": [
    {
     "data": {
      "text/plain": [
       "dict_items([('Sport', 'Cricket'), ('Teams', ['India', 'Australia', 'England', 'South Africa', 'Sri Lanka', 'New Zealand'])])"
      ]
     },
     "execution_count": 20,
     "metadata": {},
     "output_type": "execute_result"
    }
   ],
   "source": [
    "dict1.items()"
   ]
  },
  {
   "cell_type": "code",
   "execution_count": null,
   "id": "fd7d51aa-b31a-41f5-9f41-d1564f877011",
   "metadata": {},
   "outputs": [],
   "source": []
  }
 ],
 "metadata": {
  "kernelspec": {
   "display_name": "Python 3 (ipykernel)",
   "language": "python",
   "name": "python3"
  },
  "language_info": {
   "codemirror_mode": {
    "name": "ipython",
    "version": 3
   },
   "file_extension": ".py",
   "mimetype": "text/x-python",
   "name": "python",
   "nbconvert_exporter": "python",
   "pygments_lexer": "ipython3",
   "version": "3.10.8"
  }
 },
 "nbformat": 4,
 "nbformat_minor": 5
}
